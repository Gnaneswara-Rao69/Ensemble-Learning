{
  "nbformat": 4,
  "nbformat_minor": 0,
  "metadata": {
    "colab": {
      "provenance": []
    },
    "kernelspec": {
      "name": "python3",
      "display_name": "Python 3"
    },
    "language_info": {
      "name": "python"
    }
  },
  "cells": [
    {
      "cell_type": "markdown",
      "source": [
        "# Ensemble Learning"
      ],
      "metadata": {
        "id": "AA-csVxj-SgG"
      }
    },
    {
      "cell_type": "markdown",
      "source": [
        "1.  Train a Bagging Classifier using Decision Trees on a sample dataset and print model accuracy."
      ],
      "metadata": {
        "id": "da_g3mC1-ZoN"
      }
    },
    {
      "cell_type": "code",
      "execution_count": 2,
      "metadata": {
        "colab": {
          "base_uri": "https://localhost:8080/"
        },
        "id": "NUV_Ynw8-BiP",
        "outputId": "1ae45750-9872-473e-8601-7bb602932974"
      },
      "outputs": [
        {
          "output_type": "stream",
          "name": "stdout",
          "text": [
            "Accuracy of the Bagging Classifier: 0.885\n"
          ]
        }
      ],
      "source": [
        "from sklearn.ensemble import BaggingClassifier\n",
        "from sklearn.tree import DecisionTreeClassifier\n",
        "from sklearn.datasets import make_classification\n",
        "from sklearn.model_selection import train_test_split\n",
        "from sklearn.metrics import accuracy_score\n",
        "\n",
        "# Generate a sample dataset\n",
        "X, y = make_classification(n_samples=1000, n_features=20, random_state=42)\n",
        "\n",
        "# Split data into training and testing sets\n",
        "X_train, X_test, y_train, y_test = train_test_split(X, y, test_size=0.2, random_state=42)\n",
        "\n",
        "# Initialize a Decision Tree Classifier\n",
        "dt_classifier = DecisionTreeClassifier(random_state=42)\n",
        "\n",
        "# Initialize a Bagging Classifier with the Decision Tree as the base estimator\n",
        "bagging_classifier = BaggingClassifier(estimator=dt_classifier, n_estimators=10, random_state=42)\n",
        "\n",
        "# Train the Bagging Classifier\n",
        "bagging_classifier.fit(X_train, y_train)\n",
        "\n",
        "# Make predictions on the test set\n",
        "y_pred = bagging_classifier.predict(X_test)\n",
        "\n",
        "# Calculate and print the accuracy\n",
        "accuracy = accuracy_score(y_test, y_pred)\n",
        "print(f\"Accuracy of the Bagging Classifier: {accuracy}\")"
      ]
    },
    {
      "cell_type": "markdown",
      "source": [
        "2.  Train a Bagging Regressor using Decision Trees and evaluate using Mean Squared Error (MSE)."
      ],
      "metadata": {
        "id": "LaTpe6rz-34O"
      }
    },
    {
      "cell_type": "code",
      "source": [
        "from sklearn.ensemble import BaggingRegressor\n",
        "from sklearn.tree import DecisionTreeRegressor\n",
        "from sklearn.datasets import make_regression\n",
        "from sklearn.model_selection import train_test_split\n",
        "from sklearn.metrics import mean_squared_error\n",
        "\n",
        "# Generate a sample dataset for regression\n",
        "X_reg, y_reg = make_regression(n_samples=1000, n_features=20, random_state=42)\n",
        "\n",
        "# Split data into training and testing sets\n",
        "X_train_reg, X_test_reg, y_train_reg, y_test_reg = train_test_split(X_reg, y_reg, test_size=0.2, random_state=42)\n",
        "\n",
        "# Initialize a Decision Tree Regressor\n",
        "dt_regressor = DecisionTreeRegressor(random_state=42)\n",
        "\n",
        "# Initialize a Bagging Regressor with the Decision Tree as the base estimator\n",
        "bagging_regressor = BaggingRegressor(estimator=dt_regressor, n_estimators=10, random_state=42)\n",
        "\n",
        "# Train the Bagging Regressor\n",
        "bagging_regressor.fit(X_train_reg, y_train_reg)\n",
        "\n",
        "# Make predictions on the test set\n",
        "y_pred_reg = bagging_regressor.predict(X_test_reg)\n",
        "\n",
        "# Calculate and print the Mean Squared Error\n",
        "mse = mean_squared_error(y_test_reg, y_pred_reg)\n",
        "print(f\"Mean Squared Error of the Bagging Regressor: {mse}\")"
      ],
      "metadata": {
        "colab": {
          "base_uri": "https://localhost:8080/"
        },
        "id": "CrgooCO5_AtY",
        "outputId": "fa99f42c-2ec1-4964-9903-80edf27e7ecc"
      },
      "execution_count": 3,
      "outputs": [
        {
          "output_type": "stream",
          "name": "stdout",
          "text": [
            "Mean Squared Error of the Bagging Regressor: 9462.992186060874\n"
          ]
        }
      ]
    },
    {
      "cell_type": "markdown",
      "source": [
        "3.  Train a Random Forest Classifier on the Breast Cancer dataset and print feature importance scores."
      ],
      "metadata": {
        "id": "katAF7zE_Oss"
      }
    },
    {
      "cell_type": "code",
      "source": [
        "from sklearn.ensemble import RandomForestClassifier\n",
        "from sklearn.datasets import load_breast_cancer\n",
        "from sklearn.model_selection import train_test_split\n",
        "import pandas as pd\n",
        "\n",
        "# Load the Breast Cancer dataset\n",
        "breast_cancer = load_breast_cancer()\n",
        "X = breast_cancer.data\n",
        "y = breast_cancer.target\n",
        "feature_names = breast_cancer.feature_names\n",
        "\n",
        "# Split data into training and testing sets\n",
        "X_train, X_test, y_train, y_test = train_test_split(X, y, test_size=0.2, random_state=42)\n",
        "\n",
        "# Initialize a Random Forest Classifier\n",
        "random_forest = RandomForestClassifier(n_estimators=100, random_state=42)\n",
        "\n",
        "# Train the Random Forest Classifier\n",
        "random_forest.fit(X_train, y_train)\n",
        "\n",
        "# Get feature importances\n",
        "feature_importances = random_forest.feature_importances_\n",
        "\n",
        "# Create a pandas Series for better visualization of feature importances\n",
        "feature_importance_series = pd.Series(feature_importances, index=feature_names)\n",
        "\n",
        "# Sort feature importances in descending order\n",
        "sorted_feature_importances = feature_importance_series.sort_values(ascending=False)\n",
        "\n",
        "# Print feature importance scores\n",
        "print(\"Feature Importance Scores (Random Forest Classifier):\")\n",
        "print(sorted_feature_importances)"
      ],
      "metadata": {
        "colab": {
          "base_uri": "https://localhost:8080/"
        },
        "id": "j2xysN5y_Vly",
        "outputId": "be6c73fb-11a7-44dd-cb02-860e321c1f25"
      },
      "execution_count": 4,
      "outputs": [
        {
          "output_type": "stream",
          "name": "stdout",
          "text": [
            "Feature Importance Scores (Random Forest Classifier):\n",
            "worst area                 0.153892\n",
            "worst concave points       0.144663\n",
            "mean concave points        0.106210\n",
            "worst radius               0.077987\n",
            "mean concavity             0.068001\n",
            "worst perimeter            0.067115\n",
            "mean perimeter             0.053270\n",
            "mean radius                0.048703\n",
            "mean area                  0.047555\n",
            "worst concavity            0.031802\n",
            "area error                 0.022407\n",
            "worst texture              0.021749\n",
            "worst compactness          0.020266\n",
            "radius error               0.020139\n",
            "mean compactness           0.013944\n",
            "mean texture               0.013591\n",
            "perimeter error            0.011303\n",
            "worst smoothness           0.010644\n",
            "worst symmetry             0.010120\n",
            "concavity error            0.009386\n",
            "mean smoothness            0.007285\n",
            "fractal dimension error    0.005321\n",
            "compactness error          0.005253\n",
            "worst fractal dimension    0.005210\n",
            "texture error              0.004724\n",
            "smoothness error           0.004271\n",
            "symmetry error             0.004018\n",
            "mean fractal dimension     0.003886\n",
            "mean symmetry              0.003770\n",
            "concave points error       0.003513\n",
            "dtype: float64\n"
          ]
        }
      ]
    },
    {
      "cell_type": "markdown",
      "source": [
        "4. Train a Random Forest Regressor and compare its performance with a single Decision Tree."
      ],
      "metadata": {
        "id": "w1RIwCsV_pjM"
      }
    },
    {
      "cell_type": "code",
      "source": [
        "from sklearn.ensemble import RandomForestRegressor\n",
        "from sklearn.tree import DecisionTreeRegressor\n",
        "from sklearn.datasets import make_regression\n",
        "from sklearn.model_selection import train_test_split\n",
        "from sklearn.metrics import mean_squared_error\n",
        "\n",
        "# Generate a sample dataset for regression\n",
        "X_reg, y_reg = make_regression(n_samples=1000, n_features=20, random_state=42)\n",
        "\n",
        "# Split data into training and testing sets\n",
        "X_train_reg, X_test_reg, y_train_reg, y_test_reg = train_test_split(X_reg, y_reg, test_size=0.2, random_state=42)\n",
        "\n",
        "# Initialize a Decision Tree Regressor\n",
        "dt_regressor = DecisionTreeRegressor(random_state=42)\n",
        "\n",
        "# Initialize a Random Forest Regressor\n",
        "random_forest_regressor = RandomForestRegressor(n_estimators=100, random_state=42)\n",
        "\n",
        "# Train the Decision Tree Regressor\n",
        "dt_regressor.fit(X_train_reg, y_train_reg)\n",
        "\n",
        "# Train the Random Forest Regressor\n",
        "random_forest_regressor.fit(X_train_reg, y_train_reg)\n",
        "\n",
        "# Make predictions on the test set\n",
        "y_pred_dt = dt_regressor.predict(X_test_reg)\n",
        "y_pred_rf = random_forest_regressor.predict(X_test_reg)\n",
        "\n",
        "# Calculate Mean Squared Error for both models\n",
        "mse_dt = mean_squared_error(y_test_reg, y_pred_dt)\n",
        "mse_rf = mean_squared_error(y_test_reg, y_pred_rf)\n",
        "\n",
        "# Print the Mean Squared Error for both models\n",
        "print(f\"Mean Squared Error of the Decision Tree Regressor: {mse_dt}\")\n",
        "print(f\"Mean Squared Error of the Random Forest Regressor: {mse_rf}\")"
      ],
      "metadata": {
        "colab": {
          "base_uri": "https://localhost:8080/"
        },
        "id": "90Kb-Hz4_uwc",
        "outputId": "ad9a2576-9735-4190-922d-e0cdeeacaec8"
      },
      "execution_count": 5,
      "outputs": [
        {
          "output_type": "stream",
          "name": "stdout",
          "text": [
            "Mean Squared Error of the Decision Tree Regressor: 21352.575144570023\n",
            "Mean Squared Error of the Random Forest Regressor: 8592.244973007591\n"
          ]
        }
      ]
    },
    {
      "cell_type": "markdown",
      "source": [
        "5. Compute the Out-of-Bag (OOB) Score for a Random Forest Classifier."
      ],
      "metadata": {
        "id": "7fIpzyQU_4cQ"
      }
    },
    {
      "cell_type": "code",
      "source": [
        "from sklearn.ensemble import RandomForestClassifier\n",
        "from sklearn.datasets import load_breast_cancer\n",
        "from sklearn.model_selection import train_test_split\n",
        "\n",
        "# Load the Breast Cancer dataset\n",
        "breast_cancer = load_breast_cancer()\n",
        "X = breast_cancer.data\n",
        "y = breast_cancer.target\n",
        "\n",
        "# Split data into training and testing sets (OOB score is computed on training data, but splitting is still good practice)\n",
        "X_train, X_test, y_train, y_test = train_test_split(X, y, test_size=0.2, random_state=42)\n",
        "\n",
        "# Initialize a Random Forest Classifier with oob_score set to True\n",
        "random_forest_oob = RandomForestClassifier(n_estimators=100, oob_score=True, random_state=42)\n",
        "\n",
        "# Train the Random Forest Classifier\n",
        "random_forest_oob.fit(X_train, y_train)\n",
        "\n",
        "# Get the Out-of-Bag score\n",
        "oob_score = random_forest_oob.oob_score_\n",
        "\n",
        "# Print the Out-of-Bag score\n",
        "print(f\"Out-of-Bag Score of the Random Forest Classifier: {oob_score}\")"
      ],
      "metadata": {
        "colab": {
          "base_uri": "https://localhost:8080/"
        },
        "id": "k-furQJu_8kZ",
        "outputId": "fe2a0819-eadf-40a6-9928-4b01b4bf8896"
      },
      "execution_count": 6,
      "outputs": [
        {
          "output_type": "stream",
          "name": "stdout",
          "text": [
            "Out-of-Bag Score of the Random Forest Classifier: 0.9560439560439561\n"
          ]
        }
      ]
    },
    {
      "cell_type": "markdown",
      "source": [
        "6. Train a Bagging Classifier using SVM as a base estimator and print accuracy."
      ],
      "metadata": {
        "id": "OoW1Om4VAIWX"
      }
    },
    {
      "cell_type": "code",
      "source": [
        "from sklearn.ensemble import BaggingClassifier\n",
        "from sklearn.svm import SVC\n",
        "from sklearn.datasets import make_classification\n",
        "from sklearn.model_selection import train_test_split\n",
        "from sklearn.metrics import accuracy_score\n",
        "\n",
        "# Generate a sample dataset\n",
        "X, y = make_classification(n_samples=1000, n_features=20, random_state=42)\n",
        "\n",
        "# Split data into training and testing sets\n",
        "X_train, X_test, y_train, y_test = train_test_split(X, y, test_size=0.2, random_state=42)\n",
        "\n",
        "# Initialize a Support Vector Machine (SVM) Classifier\n",
        "svm_classifier = SVC(random_state=42)\n",
        "\n",
        "# Initialize a Bagging Classifier with the SVM as the base estimator\n",
        "bagging_svm_classifier = BaggingClassifier(estimator=svm_classifier, n_estimators=10, random_state=42)\n",
        "\n",
        "# Train the Bagging Classifier\n",
        "bagging_svm_classifier.fit(X_train, y_train)\n",
        "\n",
        "# Make predictions on the test set\n",
        "y_pred_svm_bagging = bagging_svm_classifier.predict(X_test)\n",
        "\n",
        "# Calculate and print the accuracy\n",
        "accuracy_svm_bagging = accuracy_score(y_test, y_pred_svm_bagging)\n",
        "print(f\"Accuracy of the Bagging Classifier with SVM: {accuracy_svm_bagging}\")"
      ],
      "metadata": {
        "colab": {
          "base_uri": "https://localhost:8080/"
        },
        "id": "_j3NmbWRAMBK",
        "outputId": "22d945b3-4613-4b08-d970-e60c540ac7f8"
      },
      "execution_count": 7,
      "outputs": [
        {
          "output_type": "stream",
          "name": "stdout",
          "text": [
            "Accuracy of the Bagging Classifier with SVM: 0.87\n"
          ]
        }
      ]
    },
    {
      "cell_type": "markdown",
      "source": [
        "7.  Train a Random Forest Classifier with different numbers of trees and compare accuracy."
      ],
      "metadata": {
        "id": "x3YYkmFfAV0Y"
      }
    },
    {
      "cell_type": "code",
      "source": [
        "from sklearn.ensemble import RandomForestClassifier\n",
        "from sklearn.datasets import load_breast_cancer\n",
        "from sklearn.model_selection import train_test_split\n",
        "from sklearn.metrics import accuracy_score\n",
        "import matplotlib.pyplot as plt\n",
        "\n",
        "# Load the Breast Cancer dataset\n",
        "breast_cancer = load_breast_cancer()\n",
        "X = breast_cancer.data\n",
        "y = breast_cancer.target\n",
        "\n",
        "# Split data into training and testing sets\n",
        "X_train, X_test, y_train, y_test = train_test_split(X, y, test_size=0.2, random_state=42)\n",
        "\n",
        "# Define a list of different numbers of trees to experiment with\n",
        "n_estimators_list = [10, 50, 100, 200, 500]\n",
        "accuracy_scores = []\n",
        "\n",
        "# Train Random Forest Classifiers with different numbers of trees and store accuracy\n",
        "for n_estimators in n_estimators_list:\n",
        "    random_forest = RandomForestClassifier(n_estimators=n_estimators, random_state=42)\n",
        "    random_forest.fit(X_train, y_train)\n",
        "    y_pred = random_forest.predict(X_test)\n",
        "    accuracy = accuracy_score(y_test, y_pred)\n",
        "    accuracy_scores.append(accuracy)\n",
        "    print(f\"Accuracy with {n_estimators} trees: {accuracy}\")\n",
        "\n",
        "# Optional: Plot the accuracies to visualize the effect of the number of trees\n",
        "plt.figure(figsize=(10, 6))\n",
        "plt.plot(n_estimators_list, accuracy_scores, marker='o')\n",
        "plt.xlabel(\"Number of Trees (n_estimators)\")\n",
        "plt.ylabel(\"Accuracy\")\n",
        "plt.title(\"Random Forest Accuracy vs. Number of Trees\")\n",
        "plt.grid(True)\n",
        "plt.show()"
      ],
      "metadata": {
        "colab": {
          "base_uri": "https://localhost:8080/",
          "height": 651
        },
        "id": "pkjHkjDsAa3K",
        "outputId": "0af09226-8378-422e-8aad-b305ce80d8a9"
      },
      "execution_count": 8,
      "outputs": [
        {
          "output_type": "stream",
          "name": "stdout",
          "text": [
            "Accuracy with 10 trees: 0.956140350877193\n",
            "Accuracy with 50 trees: 0.9649122807017544\n",
            "Accuracy with 100 trees: 0.9649122807017544\n",
            "Accuracy with 200 trees: 0.9649122807017544\n",
            "Accuracy with 500 trees: 0.9649122807017544\n"
          ]
        },
        {
          "output_type": "display_data",
          "data": {
            "text/plain": [
              "<Figure size 1000x600 with 1 Axes>"
            ],
            "image/png": "[encoded data removed]"
          },
          "metadata": {}
        }
      ]
    },
    {
      "cell_type": "markdown",
      "source": [
        "8. Train a Bagging Classifier using Logistic Regression as a base estimator and print AUC score."
      ],
      "metadata": {
        "id": "91sWeeVtArOW"
      }
    },
    {
      "cell_type": "code",
      "source": [
        "from sklearn.ensemble import BaggingClassifier\n",
        "from sklearn.linear_model import LogisticRegression\n",
        "from sklearn.datasets import make_classification\n",
        "from sklearn.model_selection import train_test_split\n",
        "from sklearn.metrics import roc_auc_score\n",
        "\n",
        "# Generate a sample dataset\n",
        "X, y = make_classification(n_samples=1000, n_features=20, random_state=42)\n",
        "\n",
        "# Split data into training and testing sets\n",
        "X_train, X_test, y_train, y_test = train_test_split(X, y, test_size=0.2, random_state=42)\n",
        "\n",
        "# Initialize a Logistic Regression Classifier\n",
        "lr_classifier = LogisticRegression(random_state=42)\n",
        "\n",
        "# Initialize a Bagging Classifier with Logistic Regression as the base estimator\n",
        "bagging_lr_classifier = BaggingClassifier(estimator=lr_classifier, n_estimators=10, random_state=42)\n",
        "\n",
        "# Train the Bagging Classifier\n",
        "bagging_lr_classifier.fit(X_train, y_train)\n",
        "\n",
        "# Make probability predictions on the test set\n",
        "y_pred_proba_lr_bagging = bagging_lr_classifier.predict_proba(X_test)[:, 1]\n",
        "\n",
        "# Calculate and print the AUC score\n",
        "auc_lr_bagging = roc_auc_score(y_test, y_pred_proba_lr_bagging)\n",
        "print(f\"AUC Score of the Bagging Classifier with Logistic Regression: {auc_lr_bagging}\")"
      ],
      "metadata": {
        "colab": {
          "base_uri": "https://localhost:8080/"
        },
        "id": "-E4itkGSAvC4",
        "outputId": "85702adf-2b4b-4dab-b154-a4ddd97d056a"
      },
      "execution_count": 9,
      "outputs": [
        {
          "output_type": "stream",
          "name": "stdout",
          "text": [
            "AUC Score of the Bagging Classifier with Logistic Regression: 0.9225203497135966\n"
          ]
        }
      ]
    },
    {
      "cell_type": "markdown",
      "source": [
        "9. Train a Random Forest Regressor and analyze feature importance scores."
      ],
      "metadata": {
        "id": "kie2_dlgBFJe"
      }
    },
    {
      "cell_type": "code",
      "source": [
        "from sklearn.ensemble import RandomForestRegressor\n",
        "from sklearn.datasets import make_regression\n",
        "from sklearn.model_selection import train_test_split\n",
        "import pandas as pd\n",
        "\n",
        "# Generate a sample dataset for regression\n",
        "X_reg, y_reg = make_regression(n_samples=1000, n_features=20, random_state=42)\n",
        "\n",
        "# Split data into training and testing sets\n",
        "X_train_reg, X_test_reg, y_train_reg, y_test_reg = train_test_split(X_reg, y_reg, test_size=0.2, random_state=42)\n",
        "\n",
        "# Initialize a Random Forest Regressor\n",
        "random_forest_regressor = RandomForestRegressor(n_estimators=100, random_state=42)\n",
        "\n",
        "# Train the Random Forest Regressor\n",
        "random_forest_regressor.fit(X_train_reg, y_train_reg)\n",
        "\n",
        "# Get feature importances\n",
        "feature_importances_reg = random_forest_regressor.feature_importances_\n",
        "\n",
        "# Create a pandas Series for better visualization of feature importances\n",
        "feature_importance_series_reg = pd.Series(feature_importances_reg, index=[f'feature_{i}' for i in range(X_reg.shape[1])])\n",
        "\n",
        "# Sort feature importances in descending order\n",
        "sorted_feature_importances_reg = feature_importance_series_reg.sort_values(ascending=False)\n",
        "\n",
        "# Print feature importance scores\n",
        "print(\"Feature Importance Scores (Random Forest Regressor):\")\n",
        "print(sorted_feature_importances_reg)"
      ],
      "metadata": {
        "colab": {
          "base_uri": "https://localhost:8080/"
        },
        "id": "nwDBoeGdBI6V",
        "outputId": "cfb73051-23a2-4679-b558-b6dc8285d51d"
      },
      "execution_count": 10,
      "outputs": [
        {
          "output_type": "stream",
          "name": "stdout",
          "text": [
            "Feature Importance Scores (Random Forest Regressor):\n",
            "feature_16    0.278247\n",
            "feature_4     0.200561\n",
            "feature_15    0.145842\n",
            "feature_5     0.125427\n",
            "feature_2     0.101418\n",
            "feature_18    0.022312\n",
            "feature_1     0.016148\n",
            "feature_10    0.009990\n",
            "feature_17    0.009499\n",
            "feature_12    0.009324\n",
            "feature_11    0.009227\n",
            "feature_14    0.009062\n",
            "feature_13    0.008921\n",
            "feature_9     0.008675\n",
            "feature_8     0.008085\n",
            "feature_6     0.008013\n",
            "feature_7     0.007857\n",
            "feature_19    0.007358\n",
            "feature_0     0.007162\n",
            "feature_3     0.006872\n",
            "dtype: float64\n"
          ]
        }
      ]
    },
    {
      "cell_type": "markdown",
      "source": [
        "10. Train an ensemble model using both Bagging and Random Forest and compare accuracy."
      ],
      "metadata": {
        "id": "33FEich_BWNs"
      }
    },
    {
      "cell_type": "code",
      "source": [
        "from sklearn.ensemble import BaggingClassifier, RandomForestClassifier, StackingClassifier\n",
        "from sklearn.tree import DecisionTreeClassifier\n",
        "from sklearn.linear_model import LogisticRegression\n",
        "from sklearn.datasets import make_classification\n",
        "from sklearn.model_selection import train_test_split\n",
        "from sklearn.metrics import accuracy_score\n",
        "\n",
        "# Generate a sample dataset\n",
        "X, y = make_classification(n_samples=1000, n_features=20, random_state=42)\n",
        "\n",
        "# Split data into training and testing sets\n",
        "X_train, X_test, y_train, y_test = train_test_split(X, y, test_size=0.2, random_state=42)\n",
        "\n",
        "# Initialize base models\n",
        "bagging_classifier = BaggingClassifier(estimator=DecisionTreeClassifier(random_state=42), n_estimators=10, random_state=42)\n",
        "random_forest_classifier = RandomForestClassifier(n_estimators=100, random_state=42)\n",
        "\n",
        "# Train the base models explicitly\n",
        "bagging_classifier.fit(X_train, y_train)\n",
        "random_forest_classifier.fit(X_train, y_train)\n",
        "\n",
        "\n",
        "# Define the list of estimators for stacking\n",
        "estimators = [('bagging', bagging_classifier), ('random_forest', random_forest_classifier)]\n",
        "\n",
        "# Initialize the Stacking Classifier\n",
        "stacking_classifier = StackingClassifier(estimators=estimators, final_estimator=LogisticRegression())\n",
        "\n",
        "# Train the Stacking Classifier\n",
        "stacking_classifier.fit(X_train, y_train)\n",
        "\n",
        "# Make predictions on the test set\n",
        "y_pred_bagging = bagging_classifier.predict(X_test)\n",
        "y_pred_random_forest = random_forest_classifier.predict(X_test)\n",
        "y_pred_stacking = stacking_classifier.predict(X_test)\n",
        "\n",
        "\n",
        "# Calculate and print the accuracy of each model\n",
        "accuracy_bagging = accuracy_score(y_test, y_pred_bagging)\n",
        "accuracy_random_forest = accuracy_score(y_test, y_pred_random_forest)\n",
        "accuracy_stacking = accuracy_score(y_test, y_pred_stacking)\n",
        "\n",
        "\n",
        "print(f\"Accuracy of the Bagging Classifier: {accuracy_bagging}\")\n",
        "print(f\"Accuracy of the Random Forest Classifier: {accuracy_random_forest}\")\n",
        "print(f\"Accuracy of the Stacking Classifier: {accuracy_stacking}\")"
      ],
      "metadata": {
        "colab": {
          "base_uri": "https://localhost:8080/"
        },
        "id": "khICQQ77CwAo",
        "outputId": "eacfd221-45f9-4a9d-f8c9-7f96ba2e0892"
      },
      "execution_count": 18,
      "outputs": [
        {
          "output_type": "stream",
          "name": "stdout",
          "text": [
            "Accuracy of the Bagging Classifier: 0.885\n",
            "Accuracy of the Random Forest Classifier: 0.9\n",
            "Accuracy of the Stacking Classifier: 0.88\n"
          ]
        }
      ]
    },
    {
      "cell_type": "markdown",
      "source": [
        "11. Train a Random Forest Classifier and tune hyperparameters using GridSearchCV."
      ],
      "metadata": {
        "id": "wgp2Jo4TDJjE"
      }
    },
    {
      "cell_type": "code",
      "source": [
        "from sklearn.ensemble import RandomForestClassifier\n",
        "from sklearn.datasets import load_breast_cancer\n",
        "from sklearn.model_selection import train_test_split, GridSearchCV\n",
        "\n",
        "# Load the Breast Cancer dataset\n",
        "breast_cancer = load_breast_cancer()\n",
        "X = breast_cancer.data\n",
        "y = breast_cancer.target\n",
        "\n",
        "# Split data into training and testing sets\n",
        "X_train, X_test, y_train, y_test = train_test_split(X, y, test_size=0.2, random_state=42)\n",
        "\n",
        "# Initialize a Random Forest Classifier\n",
        "random_forest = RandomForestClassifier(random_state=42)\n",
        "\n",
        "# Define the parameter grid to search\n",
        "param_grid = {\n",
        "    'n_estimators': [50, 100, 200],\n",
        "    'max_depth': [None, 10, 20],\n",
        "    'min_samples_split': [2, 5, 10]\n",
        "}\n",
        "\n",
        "# Initialize GridSearchCV\n",
        "grid_search = GridSearchCV(estimator=random_forest, param_grid=param_grid, cv=5, scoring='accuracy', n_jobs=-1)\n",
        "\n",
        "# Perform GridSearchCV\n",
        "grid_search.fit(X_train, y_train)\n",
        "\n",
        "# Print the best parameters and best score\n",
        "print(f\"Best parameters found: {grid_search.best_params_}\")\n",
        "print(f\"Best cross-validation accuracy: {grid_search.best_score_}\")\n",
        "\n",
        "# Evaluate the best model on the test set\n",
        "best_random_forest = grid_search.best_estimator_\n",
        "test_accuracy = best_random_forest.score(X_test, y_test)\n",
        "print(f\"Test set accuracy with best parameters: {test_accuracy}\")"
      ],
      "metadata": {
        "colab": {
          "base_uri": "https://localhost:8080/"
        },
        "id": "5upyA8rUDNrT",
        "outputId": "8637025c-d827-4ad8-9252-a3ae4db79fb5"
      },
      "execution_count": 19,
      "outputs": [
        {
          "output_type": "stream",
          "name": "stdout",
          "text": [
            "Best parameters found: {'max_depth': None, 'min_samples_split': 2, 'n_estimators': 200}\n",
            "Best cross-validation accuracy: 0.9626373626373625\n",
            "Test set accuracy with best parameters: 0.9649122807017544\n"
          ]
        }
      ]
    },
    {
      "cell_type": "markdown",
      "source": [
        "12.  Train a Bagging Regressor with different numbers of base estimators and compare performance."
      ],
      "metadata": {
        "id": "-kv6kUXaDePR"
      }
    },
    {
      "cell_type": "code",
      "source": [
        "from sklearn.ensemble import BaggingRegressor\n",
        "from sklearn.tree import DecisionTreeRegressor\n",
        "from sklearn.datasets import make_regression\n",
        "from sklearn.model_selection import train_test_split\n",
        "from sklearn.metrics import mean_squared_error\n",
        "import matplotlib.pyplot as plt\n",
        "\n",
        "# Generate a sample dataset for regression\n",
        "X_reg, y_reg = make_regression(n_samples=1000, n_features=20, random_state=42)\n",
        "\n",
        "# Split data into training and testing sets\n",
        "X_train_reg, X_test_reg, y_train_reg, y_test_reg = train_test_split(X_reg, y_reg, test_size=0.2, random_state=42)\n",
        "\n",
        "# Define a list of different numbers of base estimators to experiment with\n",
        "n_estimators_list = [10, 50, 100, 200, 500]\n",
        "mse_scores = []\n",
        "\n",
        "# Train Bagging Regressors with different numbers of base estimators and store MSE\n",
        "for n_estimators in n_estimators_list:\n",
        "    bagging_regressor = BaggingRegressor(estimator=DecisionTreeRegressor(random_state=42), n_estimators=n_estimators, random_state=42)\n",
        "    bagging_regressor.fit(X_train_reg, y_train_reg)\n",
        "    y_pred_reg = bagging_regressor.predict(X_test_reg)\n",
        "    mse = mean_squared_error(y_test_reg, y_pred_reg)\n",
        "    mse_scores.append(mse)\n",
        "    print(f\"Mean Squared Error with {n_estimators} base estimators: {mse}\")\n",
        "\n",
        "# Optional: Plot the MSEs to visualize the effect of the number of base estimators\n",
        "plt.figure(figsize=(10, 6))\n",
        "plt.plot(n_estimators_list, mse_scores, marker='o')\n",
        "plt.xlabel(\"Number of Base Estimators (n_estimators)\")\n",
        "plt.ylabel(\"Mean Squared Error (MSE)\")\n",
        "plt.title(\"Bagging Regressor MSE vs. Number of Base Estimators\")\n",
        "plt.grid(True)\n",
        "plt.show()"
      ],
      "metadata": {
        "colab": {
          "base_uri": "https://localhost:8080/",
          "height": 651
        },
        "id": "QDTmZUcPDkAO",
        "outputId": "09f4967b-7f87-4bfb-ec50-2e3319242422"
      },
      "execution_count": 20,
      "outputs": [
        {
          "output_type": "stream",
          "name": "stdout",
          "text": [
            "Mean Squared Error with 10 base estimators: 9462.992186060874\n",
            "Mean Squared Error with 50 base estimators: 8308.576076264717\n",
            "Mean Squared Error with 100 base estimators: 8517.426228499578\n",
            "Mean Squared Error with 200 base estimators: 8528.914182532735\n",
            "Mean Squared Error with 500 base estimators: 8455.305284761947\n"
          ]
        },
        {
          "output_type": "display_data",
          "data": {
            "text/plain": [
              "<Figure size 1000x600 with 1 Axes>"
            ],
            "image/png": "[encoded data removed]"
          },
          "metadata": {}
        }
      ]
    },
    {
      "cell_type": "markdown",
      "source": [
        "13. Train a Random Forest Classifier and analyze misclassified samples."
      ],
      "metadata": {
        "id": "br9TcQ4HD6KB"
      }
    },
    {
      "cell_type": "code",
      "source": [
        "from sklearn.ensemble import RandomForestClassifier\n",
        "from sklearn.datasets import load_breast_cancer\n",
        "from sklearn.model_selection import train_test_split\n",
        "import pandas as pd\n",
        "\n",
        "# Load the Breast Cancer dataset\n",
        "breast_cancer = load_breast_cancer()\n",
        "X = breast_cancer.data\n",
        "y = breast_cancer.target\n",
        "feature_names = breast_cancer.feature_names\n",
        "target_names = breast_cancer.target_names\n",
        "\n",
        "# Split data into training and testing sets\n",
        "X_train, X_test, y_train, y_test = train_test_split(X, y, test_size=0.2, random_state=42)\n",
        "\n",
        "# Initialize a Random Forest Classifier\n",
        "random_forest = RandomForestClassifier(n_estimators=100, random_state=42)\n",
        "\n",
        "# Train the Random Forest Classifier\n",
        "random_forest.fit(X_train, y_train)\n",
        "\n",
        "# Make predictions on the test set\n",
        "y_pred = random_forest.predict(X_test)\n",
        "\n",
        "# Identify misclassified samples\n",
        "misclassified_indices = [i for i, (true, pred) in enumerate(zip(y_test, y_pred)) if true != pred]\n",
        "\n",
        "print(f\"Number of misclassified samples: {len(misclassified_indices)}\")\n",
        "\n",
        "if len(misclassified_indices) > 0:\n",
        "    print(\"\\nMisclassified samples (index in test set):\")\n",
        "    for i in misclassified_indices:\n",
        "        print(f\"Index: {i}, True Class: {target_names[y_test[i]]}, Predicted Class: {target_names[y_pred[i]]}\")\n",
        "        # You can optionally print features of misclassified samples\n",
        "        # print(f\"Features: {X_test[i]}\")"
      ],
      "metadata": {
        "colab": {
          "base_uri": "https://localhost:8080/"
        },
        "id": "5d82anJoD-Nw",
        "outputId": "ba37d574-69e9-4080-f625-ca0588e078aa"
      },
      "execution_count": 21,
      "outputs": [
        {
          "output_type": "stream",
          "name": "stdout",
          "text": [
            "Number of misclassified samples: 4\n",
            "\n",
            "Misclassified samples (index in test set):\n",
            "Index: 8, True Class: benign, Predicted Class: malignant\n",
            "Index: 20, True Class: malignant, Predicted Class: benign\n",
            "Index: 77, True Class: malignant, Predicted Class: benign\n",
            "Index: 82, True Class: malignant, Predicted Class: benign\n"
          ]
        }
      ]
    },
    {
      "cell_type": "markdown",
      "source": [
        "14. Train a Bagging Classifier and compare its performance with a single Decision Tree Classifier."
      ],
      "metadata": {
        "id": "2HOLRljXEIDH"
      }
    },
    {
      "cell_type": "code",
      "source": [
        "from sklearn.ensemble import BaggingClassifier\n",
        "from sklearn.tree import DecisionTreeClassifier\n",
        "from sklearn.datasets import make_classification\n",
        "from sklearn.model_selection import train_test_split\n",
        "from sklearn.metrics import accuracy_score\n",
        "\n",
        "# Generate a sample dataset\n",
        "X, y = make_classification(n_samples=1000, n_features=20, random_state=42)\n",
        "\n",
        "# Split data into training and testing sets\n",
        "X_train, X_test, y_train, y_test = train_test_split(X, y, test_size=0.2, random_state=42)\n",
        "\n",
        "# Initialize a Decision Tree Classifier\n",
        "dt_classifier = DecisionTreeClassifier(random_state=42)\n",
        "\n",
        "# Initialize a Bagging Classifier with the Decision Tree as the base estimator\n",
        "bagging_classifier = BaggingClassifier(estimator=dt_classifier, n_estimators=10, random_state=42)\n",
        "\n",
        "# Train the Decision Tree Classifier\n",
        "dt_classifier.fit(X_train, y_train)\n",
        "\n",
        "# Train the Bagging Classifier\n",
        "bagging_classifier.fit(X_train, y_train)\n",
        "\n",
        "# Make predictions on the test set\n",
        "y_pred_dt = dt_classifier.predict(X_test)\n",
        "y_pred_bagging = bagging_classifier.predict(X_test)\n",
        "\n",
        "# Calculate and print the accuracy for both models\n",
        "accuracy_dt = accuracy_score(y_test, y_pred_dt)\n",
        "accuracy_bagging = accuracy_score(y_test, y_pred_bagging)\n",
        "\n",
        "print(f\"Accuracy of the Decision Tree Classifier: {accuracy_dt}\")\n",
        "print(f\"Accuracy of the Bagging Classifier: {accuracy_bagging}\")"
      ],
      "metadata": {
        "colab": {
          "base_uri": "https://localhost:8080/"
        },
        "id": "uISP8CTmEL3e",
        "outputId": "c2776686-6fd1-4d86-dbd7-7e002d677931"
      },
      "execution_count": 22,
      "outputs": [
        {
          "output_type": "stream",
          "name": "stdout",
          "text": [
            "Accuracy of the Decision Tree Classifier: 0.875\n",
            "Accuracy of the Bagging Classifier: 0.885\n"
          ]
        }
      ]
    },
    {
      "cell_type": "markdown",
      "source": [
        "15.  Train a Random Forest Classifier and visualize the confusion matrix."
      ],
      "metadata": {
        "id": "GXtYZCAqERoB"
      }
    },
    {
      "cell_type": "code",
      "source": [
        "from sklearn.ensemble import RandomForestClassifier\n",
        "from sklearn.datasets import load_breast_cancer\n",
        "from sklearn.model_selection import train_test_split\n",
        "from sklearn.metrics import confusion_matrix, ConfusionMatrixDisplay\n",
        "import matplotlib.pyplot as plt\n",
        "\n",
        "# Load the Breast Cancer dataset\n",
        "breast_cancer = load_breast_cancer()\n",
        "X = breast_cancer.data\n",
        "y = breast_cancer.target\n",
        "target_names = breast_cancer.target_names\n",
        "\n",
        "# Split data into training and testing sets\n",
        "X_train, X_test, y_train, y_test = train_test_split(X, y, test_size=0.2, random_state=42)\n",
        "\n",
        "# Initialize a Random Forest Classifier\n",
        "random_forest = RandomForestClassifier(n_estimators=100, random_state=42)\n",
        "\n",
        "# Train the Random Forest Classifier\n",
        "random_forest.fit(X_train, y_train)\n",
        "\n",
        "# Make predictions on the test set\n",
        "y_pred = random_forest.predict(X_test)\n",
        "\n",
        "# Compute the confusion matrix\n",
        "cm = confusion_matrix(y_test, y_pred)\n",
        "\n",
        "# Visualize the confusion matrix\n",
        "disp = ConfusionMatrixDisplay(confusion_matrix=cm, display_labels=target_names)\n",
        "disp.plot(cmap=plt.cm.Blues)\n",
        "plt.title('Confusion Matrix for Random Forest Classifier')\n",
        "plt.show()"
      ],
      "metadata": {
        "colab": {
          "base_uri": "https://localhost:8080/",
          "height": 472
        },
        "id": "e0-092jSEVY0",
        "outputId": "e4e01db8-9f95-46ec-8ee7-3d7b22f139b4"
      },
      "execution_count": 23,
      "outputs": [
        {
          "output_type": "display_data",
          "data": {
            "text/plain": [
              "<Figure size 640x480 with 2 Axes>"
            ],
            "image/png": "[encoded data removed]"
          },
          "metadata": {}
        }
      ]
    },
    {
      "cell_type": "markdown",
      "source": [
        "16. Train a Stacking Classifier using Decision Trees, SVM, and Logistic Regression, and compare accuracy."
      ],
      "metadata": {
        "id": "9nCZtR9ZEiCP"
      }
    },
    {
      "cell_type": "code",
      "source": [
        "from sklearn.ensemble import StackingClassifier\n",
        "from sklearn.tree import DecisionTreeClassifier\n",
        "from sklearn.svm import SVC\n",
        "from sklearn.linear_model import LogisticRegression\n",
        "from sklearn.datasets import make_classification\n",
        "from sklearn.model_selection import train_test_split\n",
        "from sklearn.metrics import accuracy_score\n",
        "\n",
        "# Generate a sample dataset\n",
        "X, y = make_classification(n_samples=1000, n_features=20, random_state=42)\n",
        "\n",
        "# Split data into training and testing sets\n",
        "X_train, X_test, y_train, y_test = train_test_split(X, y, test_size=0.2, random_state=42)\n",
        "\n",
        "# Initialize base estimators\n",
        "estimators = [\n",
        "    ('dt', DecisionTreeClassifier(random_state=42)),\n",
        "    ('svm', SVC(probability=True, random_state=42)), # SVC needs probability=True for stacking with default final_estimator\n",
        "    ('lr', LogisticRegression(random_state=42))\n",
        "]\n",
        "\n",
        "# Initialize the Stacking Classifier\n",
        "stacking_classifier = StackingClassifier(estimators=estimators, final_estimator=LogisticRegression())\n",
        "\n",
        "# Train the Stacking Classifier\n",
        "stacking_classifier.fit(X_train, y_train)\n",
        "\n",
        "# Make predictions on the test set\n",
        "y_pred_stacking = stacking_classifier.predict(X_test)\n",
        "\n",
        "# Calculate and print the accuracy\n",
        "accuracy_stacking = accuracy_score(y_test, y_pred_stacking)\n",
        "print(f\"Accuracy of the Stacking Classifier: {accuracy_stacking}\")\n",
        "\n",
        "# Optional: Compare with individual base estimator accuracies\n",
        "# You would need to train and evaluate individual base estimators separately\n",
        "# dt_classifier = DecisionTreeClassifier(random_state=42)\n",
        "# dt_classifier.fit(X_train, y_train)\n",
        "# y_pred_dt = dt_classifier.predict(X_test)\n",
        "# accuracy_dt = accuracy_score(y_test, y_pred_dt)\n",
        "# print(f\"Accuracy of Decision Tree Classifier: {accuracy_dt}\")"
      ],
      "metadata": {
        "colab": {
          "base_uri": "https://localhost:8080/"
        },
        "id": "C3Kx9uGlEmeI",
        "outputId": "4409c527-ba85-44f2-e51a-9a4efca09730"
      },
      "execution_count": 24,
      "outputs": [
        {
          "output_type": "stream",
          "name": "stdout",
          "text": [
            "Accuracy of the Stacking Classifier: 0.865\n"
          ]
        }
      ]
    },
    {
      "cell_type": "markdown",
      "source": [
        "17.  Train a Random Forest Classifier and print the top 5 most important features."
      ],
      "metadata": {
        "id": "MiftU9ZLF5Cu"
      }
    },
    {
      "cell_type": "code",
      "source": [
        "from sklearn.ensemble import RandomForestClassifier\n",
        "from sklearn.datasets import load_breast_cancer\n",
        "from sklearn.model_selection import train_test_split\n",
        "import pandas as pd\n",
        "\n",
        "# Load the Breast Cancer dataset\n",
        "breast_cancer = load_breast_cancer()\n",
        "X = breast_cancer.data\n",
        "y = breast_cancer.target\n",
        "feature_names = breast_cancer.feature_names\n",
        "\n",
        "# Split data into training and testing sets (although not strictly needed for feature importance, it's good practice)\n",
        "X_train, X_test, y_train, y_test = train_test_split(X, y, test_size=0.2, random_state=42)\n",
        "\n",
        "# Initialize a Random Forest Classifier\n",
        "random_forest = RandomForestClassifier(n_estimators=100, random_state=42)\n",
        "\n",
        "# Train the Random Forest Classifier\n",
        "random_forest.fit(X_train, y_train)\n",
        "\n",
        "# Get feature importances\n",
        "feature_importances = random_forest.feature_importances_\n",
        "\n",
        "# Create a pandas Series for better visualization of feature importances\n",
        "feature_importance_series = pd.Series(feature_importances, index=feature_names)\n",
        "\n",
        "# Sort feature importances in descending order and get the top 5\n",
        "top_5_important_features = feature_importance_series.sort_values(ascending=False).head(5)\n",
        "\n",
        "# Print the top 5 most important features\n",
        "print(\"Top 5 Most Important Features (Random Forest Classifier):\")\n",
        "print(top_5_important_features)"
      ],
      "metadata": {
        "colab": {
          "base_uri": "https://localhost:8080/"
        },
        "id": "UE6pHz0LF_1Z",
        "outputId": "0aa2ab89-edd7-4b87-c1e6-e2b139d001aa"
      },
      "execution_count": 25,
      "outputs": [
        {
          "output_type": "stream",
          "name": "stdout",
          "text": [
            "Top 5 Most Important Features (Random Forest Classifier):\n",
            "worst area              0.153892\n",
            "worst concave points    0.144663\n",
            "mean concave points     0.106210\n",
            "worst radius            0.077987\n",
            "mean concavity          0.068001\n",
            "dtype: float64\n"
          ]
        }
      ]
    },
    {
      "cell_type": "markdown",
      "source": [
        "18. Train a Bagging Classifier and evaluate performance using Precision, Recall, and F1-score."
      ],
      "metadata": {
        "id": "hwlu2axmGG1e"
      }
    },
    {
      "cell_type": "code",
      "source": [
        "from sklearn.ensemble import BaggingClassifier\n",
        "from sklearn.tree import DecisionTreeClassifier\n",
        "from sklearn.datasets import make_classification\n",
        "from sklearn.model_selection import train_test_split\n",
        "from sklearn.metrics import classification_report\n",
        "\n",
        "# Generate a sample dataset\n",
        "X, y = make_classification(n_samples=1000, n_features=20, random_state=42)\n",
        "\n",
        "# Split data into training and testing sets\n",
        "X_train, X_test, y_train, y_test = train_test_split(X, y, test_size=0.2, random_state=42)\n",
        "\n",
        "# Initialize a Decision Tree Classifier\n",
        "dt_classifier = DecisionTreeClassifier(random_state=42)\n",
        "\n",
        "# Initialize a Bagging Classifier with the Decision Tree as the base estimator\n",
        "bagging_classifier = BaggingClassifier(estimator=dt_classifier, n_estimators=10, random_state=42)\n",
        "\n",
        "# Train the Bagging Classifier\n",
        "bagging_classifier.fit(X_train, y_train)\n",
        "\n",
        "# Make predictions on the test set\n",
        "y_pred = bagging_classifier.predict(X_test)\n",
        "\n",
        "# Print the classification report\n",
        "print(\"Classification Report for Bagging Classifier:\")\n",
        "print(classification_report(y_test, y_pred))"
      ],
      "metadata": {
        "colab": {
          "base_uri": "https://localhost:8080/"
        },
        "id": "YJn5rIK0GLox",
        "outputId": "9ad1f9ff-4dde-4d8c-b0b3-dc2aea0463c9"
      },
      "execution_count": 26,
      "outputs": [
        {
          "output_type": "stream",
          "name": "stdout",
          "text": [
            "Classification Report for Bagging Classifier:\n",
            "              precision    recall  f1-score   support\n",
            "\n",
            "           0       0.82      0.96      0.89        93\n",
            "           1       0.96      0.82      0.88       107\n",
            "\n",
            "    accuracy                           0.89       200\n",
            "   macro avg       0.89      0.89      0.88       200\n",
            "weighted avg       0.89      0.89      0.88       200\n",
            "\n"
          ]
        }
      ]
    },
    {
      "cell_type": "markdown",
      "source": [
        "19. Train a Random Forest Classifier and analyze the effect of max_depth on accuracy."
      ],
      "metadata": {
        "id": "mNNxncBZGflN"
      }
    },
    {
      "cell_type": "code",
      "source": [
        "from sklearn.ensemble import RandomForestClassifier\n",
        "from sklearn.datasets import load_breast_cancer\n",
        "from sklearn.model_selection import train_test_split\n",
        "from sklearn.metrics import accuracy_score\n",
        "import matplotlib.pyplot as plt\n",
        "\n",
        "# Load the Breast Cancer dataset\n",
        "breast_cancer = load_breast_cancer()\n",
        "X = breast_cancer.data\n",
        "y = breast_cancer.target\n",
        "\n",
        "# Split data into training and testing sets\n",
        "X_train, X_test, y_train, y_test = train_test_split(X, y, test_size=0.2, random_state=42)\n",
        "\n",
        "# Define a list of different max_depth values to experiment with\n",
        "max_depth_list = [None, 5, 10, 20]\n",
        "accuracy_scores = []\n",
        "\n",
        "# Train Random Forest Classifiers with different max_depth values and store accuracy\n",
        "for max_depth in max_depth_list:\n",
        "    random_forest = RandomForestClassifier(n_estimators=100, max_depth=max_depth, random_state=42)\n",
        "    random_forest.fit(X_train, y_train)\n",
        "    y_pred = random_forest.predict(X_test)\n",
        "    accuracy = accuracy_score(y_test, y_pred)\n",
        "    accuracy_scores.append(accuracy)\n",
        "    print(f\"Accuracy with max_depth={max_depth}: {accuracy}\")\n",
        "\n",
        "# Optional: Plot the accuracies to visualize the effect of max_depth\n",
        "plt.figure(figsize=(10, 6))\n",
        "plt.plot([str(depth) for depth in max_depth_list], accuracy_scores, marker='o')\n",
        "plt.xlabel(\"Max Depth\")\n",
        "plt.ylabel(\"Accuracy\")\n",
        "plt.title(\"Random Forest Accuracy vs. Max Depth\")\n",
        "plt.grid(True)\n",
        "plt.show()"
      ],
      "metadata": {
        "colab": {
          "base_uri": "https://localhost:8080/",
          "height": 633
        },
        "id": "Z6kP1y19Gkdj",
        "outputId": "600b080c-2e2e-4393-99d1-d8ae3cbb5d90"
      },
      "execution_count": 27,
      "outputs": [
        {
          "output_type": "stream",
          "name": "stdout",
          "text": [
            "Accuracy with max_depth=None: 0.9649122807017544\n",
            "Accuracy with max_depth=5: 0.9649122807017544\n",
            "Accuracy with max_depth=10: 0.9649122807017544\n",
            "Accuracy with max_depth=20: 0.9649122807017544\n"
          ]
        },
        {
          "output_type": "display_data",
          "data": {
            "text/plain": [
              "<Figure size 1000x600 with 1 Axes>"
            ],
            "image/png": "[encoded data removed]"
          },
          "metadata": {}
        }
      ]
    },
    {
      "cell_type": "markdown",
      "source": [
        "20.  Train a Bagging Regressor using different base estimators (DecisionTree and KNeighbors) and compare\n",
        "performance."
      ],
      "metadata": {
        "id": "2L_lLKrrGsqL"
      }
    },
    {
      "cell_type": "code",
      "source": [
        "from sklearn.ensemble import BaggingRegressor\n",
        "from sklearn.tree import DecisionTreeRegressor\n",
        "from sklearn.neighbors import KNeighborsRegressor\n",
        "from sklearn.datasets import make_regression\n",
        "from sklearn.model_selection import train_test_split\n",
        "from sklearn.metrics import mean_squared_error\n",
        "\n",
        "# Generate a sample dataset for regression\n",
        "X_reg, y_reg = make_regression(n_samples=1000, n_features=20, random_state=42)\n",
        "\n",
        "# Split data into training and testing sets\n",
        "X_train_reg, X_test_reg, y_train_reg, y_test_reg = train_test_split(X_reg, y_reg, test_size=0.2, random_state=42)\n",
        "\n",
        "# Initialize Decision Tree and KNeighbors Regressors\n",
        "dt_regressor = DecisionTreeRegressor(random_state=42)\n",
        "knn_regressor = KNeighborsRegressor()\n",
        "\n",
        "# Initialize Bagging Regressors with different base estimators\n",
        "bagging_dt_regressor = BaggingRegressor(estimator=dt_regressor, n_estimators=10, random_state=42)\n",
        "bagging_knn_regressor = BaggingRegressor(estimator=knn_regressor, n_estimators=10, random_state=42)\n",
        "\n",
        "# Train the Bagging Regressors\n",
        "bagging_dt_regressor.fit(X_train_reg, y_train_reg)\n",
        "bagging_knn_regressor.fit(X_train_reg, y_train_reg)\n",
        "\n",
        "# Make predictions on the test set\n",
        "y_pred_bagging_dt = bagging_dt_regressor.predict(X_test_reg)\n",
        "y_pred_bagging_knn = bagging_knn_regressor.predict(X_test_reg)\n",
        "\n",
        "# Calculate Mean Squared Error for both Bagging Regressors\n",
        "mse_bagging_dt = mean_squared_error(y_test_reg, y_pred_bagging_dt)\n",
        "mse_bagging_knn = mean_squared_error(y_test_reg, y_pred_bagging_knn)\n",
        "\n",
        "# Print the Mean Squared Error for both Bagging Regressors\n",
        "print(f\"Mean Squared Error of Bagging Regressor with Decision Tree: {mse_bagging_dt}\")\n",
        "print(f\"Mean Squared Error of Bagging Regressor with KNeighbors: {mse_bagging_knn}\")"
      ],
      "metadata": {
        "colab": {
          "base_uri": "https://localhost:8080/"
        },
        "id": "PuvtZFajGwrI",
        "outputId": "245e16ef-2068-45cd-dac7-6bb099704193"
      },
      "execution_count": 28,
      "outputs": [
        {
          "output_type": "stream",
          "name": "stdout",
          "text": [
            "Mean Squared Error of Bagging Regressor with Decision Tree: 9462.992186060874\n",
            "Mean Squared Error of Bagging Regressor with KNeighbors: 14832.180009089792\n"
          ]
        }
      ]
    },
    {
      "cell_type": "markdown",
      "source": [
        "21. Train a Random Forest Classifier and evaluate its performance using ROC-AUC Score."
      ],
      "metadata": {
        "id": "ttTbz90VHF9a"
      }
    },
    {
      "cell_type": "code",
      "source": [
        "from sklearn.ensemble import RandomForestClassifier\n",
        "from sklearn.datasets import load_breast_cancer\n",
        "from sklearn.model_selection import train_test_split\n",
        "from sklearn.metrics import roc_auc_score\n",
        "\n",
        "# Load the Breast Cancer dataset\n",
        "breast_cancer = load_breast_cancer()\n",
        "X = breast_cancer.data\n",
        "y = breast_cancer.target\n",
        "\n",
        "# Split data into training and testing sets\n",
        "X_train, X_test, y_train, y_test = train_test_split(X, y, test_size=0.2, random_state=42)\n",
        "\n",
        "# Initialize a Random Forest Classifier\n",
        "random_forest = RandomForestClassifier(n_estimators=100, random_state=42)\n",
        "\n",
        "# Train the Random Forest Classifier\n",
        "random_forest.fit(X_train, y_train)\n",
        "\n",
        "# Make probability predictions on the test set\n",
        "y_pred_proba = random_forest.predict_proba(X_test)[:, 1]\n",
        "\n",
        "# Calculate and print the ROC-AUC score\n",
        "auc_score = roc_auc_score(y_test, y_pred_proba)\n",
        "print(f\"ROC-AUC Score of the Random Forest Classifier: {auc_score}\")"
      ],
      "metadata": {
        "colab": {
          "base_uri": "https://localhost:8080/"
        },
        "id": "T3jI4AdRHMXJ",
        "outputId": "7f4229f5-eb23-4a4c-8124-6aecd70531f4"
      },
      "execution_count": 29,
      "outputs": [
        {
          "output_type": "stream",
          "name": "stdout",
          "text": [
            "ROC-AUC Score of the Random Forest Classifier: 0.9952505732066819\n"
          ]
        }
      ]
    },
    {
      "cell_type": "markdown",
      "source": [
        "22. Train a Bagging Classifier and evaluate its performance using cross-validation."
      ],
      "metadata": {
        "id": "vQoV-c7gHVSL"
      }
    },
    {
      "cell_type": "code",
      "source": [
        "from sklearn.ensemble import BaggingClassifier\n",
        "from sklearn.tree import DecisionTreeClassifier\n",
        "from sklearn.datasets import make_classification\n",
        "from sklearn.model_selection import cross_val_score\n",
        "\n",
        "# Generate a sample dataset\n",
        "X, y = make_classification(n_samples=1000, n_features=20, random_state=42)\n",
        "\n",
        "# Initialize a Decision Tree Classifier (as the base estimator)\n",
        "dt_classifier = DecisionTreeClassifier(random_state=42)\n",
        "\n",
        "# Initialize a Bagging Classifier\n",
        "bagging_classifier = BaggingClassifier(estimator=dt_classifier, n_estimators=10, random_state=42)\n",
        "\n",
        "# Perform cross-validation\n",
        "# We'll use accuracy as the scoring metric, and 5 folds for cross-validation\n",
        "cv_scores = cross_val_score(bagging_classifier, X, y, cv=5, scoring='accuracy')\n",
        "\n",
        "# Print the cross-validation scores\n",
        "print(f\"Cross-validation scores: {cv_scores}\")\n",
        "print(f\"Mean cross-validation accuracy: {cv_scores.mean()}\")"
      ],
      "metadata": {
        "colab": {
          "base_uri": "https://localhost:8080/"
        },
        "id": "4Of4xScSHc8K",
        "outputId": "b55823cc-b24e-4f5c-b18c-70813b2f34ce"
      },
      "execution_count": 30,
      "outputs": [
        {
          "output_type": "stream",
          "name": "stdout",
          "text": [
            "Cross-validation scores: [0.95  0.9   0.895 0.895 0.86 ]\n",
            "Mean cross-validation accuracy: 0.9\n"
          ]
        }
      ]
    },
    {
      "cell_type": "markdown",
      "source": [
        "23. Train a Random Forest Classifier and plot the Precision-Recall curve."
      ],
      "metadata": {
        "id": "n947-2woHsV1"
      }
    },
    {
      "cell_type": "code",
      "source": [
        "from sklearn.ensemble import RandomForestClassifier\n",
        "from sklearn.datasets import load_breast_cancer\n",
        "from sklearn.model_selection import train_test_split\n",
        "from sklearn.metrics import precision_recall_curve, PrecisionRecallDisplay\n",
        "import matplotlib.pyplot as plt\n",
        "\n",
        "# Load the Breast Cancer dataset\n",
        "breast_cancer = load_breast_cancer()\n",
        "X = breast_cancer.data\n",
        "y = breast_cancer.target\n",
        "\n",
        "# Split data into training and testing sets\n",
        "X_train, X_test, y_train, y_test = train_test_split(X, y, test_size=0.2, random_state=42)\n",
        "\n",
        "# Initialize a Random Forest Classifier\n",
        "random_forest = RandomForestClassifier(n_estimators=100, random_state=42)\n",
        "\n",
        "# Train the Random Forest Classifier\n",
        "random_forest.fit(X_train, y_train)\n",
        "\n",
        "# Get probability predictions for the positive class\n",
        "y_scores = random_forest.predict_proba(X_test)[:, 1]\n",
        "\n",
        "# Compute the precision-recall curve\n",
        "precision, recall, _ = precision_recall_curve(y_test, y_scores)\n",
        "\n",
        "# Plot the precision-recall curve\n",
        "disp = PrecisionRecallDisplay(precision=precision, recall=recall)\n",
        "disp.plot()\n",
        "plt.title('Precision-Recall Curve for Random Forest Classifier')\n",
        "plt.show()"
      ],
      "metadata": {
        "colab": {
          "base_uri": "https://localhost:8080/",
          "height": 472
        },
        "id": "wJAYAozMHyVv",
        "outputId": "57fb47c0-86f2-4d59-f761-cfd509deb55a"
      },
      "execution_count": 31,
      "outputs": [
        {
          "output_type": "display_data",
          "data": {
            "text/plain": [
              "<Figure size 640x480 with 1 Axes>"
            ],
            "image/png": "[encoded data removed]"
          },
          "metadata": {}
        }
      ]
    },
    {
      "cell_type": "markdown",
      "source": [
        "24. Train a Stacking Classifier with Random Forest and Logistic Regression and compare accuracy."
      ],
      "metadata": {
        "id": "f6sBO0gBIE55"
      }
    },
    {
      "cell_type": "code",
      "source": [
        "from sklearn.ensemble import StackingClassifier, RandomForestClassifier\n",
        "from sklearn.linear_model import LogisticRegression\n",
        "from sklearn.datasets import make_classification\n",
        "from sklearn.model_selection import train_test_split\n",
        "from sklearn.metrics import accuracy_score\n",
        "\n",
        "# Generate a sample dataset\n",
        "X, y = make_classification(n_samples=1000, n_features=20, random_state=42)\n",
        "\n",
        "# Split data into training and testing sets\n",
        "X_train, X_test, y_train, y_test = train_test_split(X, y, test_size=0.2, random_state=42)\n",
        "\n",
        "# Initialize base estimators\n",
        "estimators = [\n",
        "    ('rf', RandomForestClassifier(n_estimators=100, random_state=42)),\n",
        "    ('lr', LogisticRegression(random_state=42))\n",
        "]\n",
        "\n",
        "# Initialize the Stacking Classifier\n",
        "stacking_classifier = StackingClassifier(estimators=estimators, final_estimator=LogisticRegression())\n",
        "\n",
        "# Train the Stacking Classifier\n",
        "stacking_classifier.fit(X_train, y_train)\n",
        "\n",
        "# Make predictions on the test set\n",
        "y_pred_stacking = stacking_classifier.predict(X_test)\n",
        "\n",
        "# Calculate and print the accuracy\n",
        "accuracy_stacking = accuracy_score(y_test, y_pred_stacking)\n",
        "print(f\"Accuracy of the Stacking Classifier: {accuracy_stacking}\")\n",
        "\n",
        "# Optional: Compare with individual base estimator accuracies\n",
        "# You would need to train and evaluate individual base estimators separately\n",
        "# rf_classifier = RandomForestClassifier(n_estimators=100, random_state=42)\n",
        "# rf_classifier.fit(X_train, y_train)\n",
        "# y_pred_rf = rf_classifier.predict(X_test)\n",
        "# accuracy_rf = accuracy_score(y_test, y_pred_rf)\n",
        "# print(f\"Accuracy of Random Forest Classifier: {accuracy_rf}\")\n",
        "\n",
        "# lr_classifier = LogisticRegression(random_state=42)\n",
        "# lr_classifier.fit(X_train, y_train)\n",
        "# y_pred_lr = lr_classifier.predict(X_test)\n",
        "# accuracy_lr = accuracy_score(y_test, y_pred_lr)\n",
        "# print(f\"Accuracy of Logistic Regression Classifier: {accuracy_lr}\")"
      ],
      "metadata": {
        "colab": {
          "base_uri": "https://localhost:8080/"
        },
        "id": "UkJAeoiNIJeO",
        "outputId": "7cb0126f-88dd-48c5-d5ff-601d2a3ea7a4"
      },
      "execution_count": 32,
      "outputs": [
        {
          "output_type": "stream",
          "name": "stdout",
          "text": [
            "Accuracy of the Stacking Classifier: 0.89\n"
          ]
        }
      ]
    },
    {
      "cell_type": "markdown",
      "source": [
        "25.  Train a Bagging Regressor with different levels of bootstrap samples and compare performance."
      ],
      "metadata": {
        "id": "KuAjWqJKIThq"
      }
    },
    {
      "cell_type": "code",
      "source": [
        "from sklearn.ensemble import BaggingRegressor\n",
        "from sklearn.tree import DecisionTreeRegressor\n",
        "from sklearn.datasets import make_regression\n",
        "from sklearn.model_selection import train_test_split\n",
        "from sklearn.metrics import mean_squared_error\n",
        "import matplotlib.pyplot as plt\n",
        "\n",
        "# Generate a sample dataset for regression\n",
        "X_reg, y_reg = make_regression(n_samples=1000, n_features=20, random_state=42)\n",
        "\n",
        "# Split data into training and testing sets\n",
        "X_train_reg, X_test_reg, y_train_reg, y_test_reg = train_test_split(X_reg, y_reg, test_size=0.2, random_state=42)\n",
        "\n",
        "# Define a list of different max_samples values to experiment with\n",
        "max_samples_list = [0.5, 0.7, 1.0] # Proportions of samples to draw\n",
        "mse_scores = []\n",
        "\n",
        "# Train Bagging Regressors with different max_samples values and store MSE\n",
        "for max_samples in max_samples_list:\n",
        "    bagging_regressor = BaggingRegressor(estimator=DecisionTreeRegressor(random_state=42), n_estimators=10, max_samples=max_samples, random_state=42)\n",
        "    bagging_regressor.fit(X_train_reg, y_train_reg)\n",
        "    y_pred_reg = bagging_regressor.predict(X_test_reg)\n",
        "    mse = mean_squared_error(y_test_reg, y_pred_reg)\n",
        "    mse_scores.append(mse)\n",
        "    print(f\"Mean Squared Error with max_samples={max_samples}: {mse}\")\n",
        "\n",
        "# Optional: Plot the MSEs to visualize the effect of max_samples\n",
        "plt.figure(figsize=(10, 6))\n",
        "plt.plot(max_samples_list, mse_scores, marker='o')\n",
        "plt.xlabel(\"Proportion of Bootstrap Samples (max_samples)\")\n",
        "plt.ylabel(\"Mean Squared Error (MSE)\")\n",
        "plt.title(\"Bagging Regressor MSE vs. Bootstrap Sample Proportion\")\n",
        "plt.grid(True)\n",
        "plt.show()"
      ],
      "metadata": {
        "colab": {
          "base_uri": "https://localhost:8080/",
          "height": 616
        },
        "id": "ocII6nQOIX-4",
        "outputId": "b525fde5-3524-4e0d-d45c-3e5e00490259"
      },
      "execution_count": 33,
      "outputs": [
        {
          "output_type": "stream",
          "name": "stdout",
          "text": [
            "Mean Squared Error with max_samples=0.5: 11858.297162932005\n",
            "Mean Squared Error with max_samples=0.7: 9761.713451886364\n",
            "Mean Squared Error with max_samples=1.0: 9462.992186060874\n"
          ]
        },
        {
          "output_type": "display_data",
          "data": {
            "text/plain": [
              "<Figure size 1000x600 with 1 Axes>"
            ],
            "image/png": "[encoded data removed]"
          },
          "metadata": {}
        }
      ]
    }
  ]
}